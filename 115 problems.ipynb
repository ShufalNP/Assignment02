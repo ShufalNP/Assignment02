{
 "cells": [
  {
   "cell_type": "markdown",
   "id": "fda166ea-6653-4a84-9bf7-7bd3266ba97a",
   "metadata": {},
   "source": [
    "1. Variable Swap: Write a Python program to swap the values of two variables without using a temporary variable."
   ]
  },
  {
   "cell_type": "code",
   "execution_count": 4,
   "id": "4b2d71e9-1b45-4d75-bb52-30f87d18b1ef",
   "metadata": {},
   "outputs": [
    {
     "name": "stdin",
     "output_type": "stream",
     "text": [
      "Enter 1st Input: 1\n",
      "Enter 2nd Input: 2\n"
     ]
    },
    {
     "name": "stdout",
     "output_type": "stream",
     "text": [
      "After swap\n",
      "2\n",
      "1\n"
     ]
    }
   ],
   "source": [
    "a=int(input(\"Enter 1st Input:\"))\n",
    "b=int(input(\"Enter 2nd Input:\"))\n",
    "a=a+b\n",
    "b=a-b\n",
    "a=a-b\n",
    "print(\"After swap\")\n",
    "print(a)\n",
    "print(b)"
   ]
  },
  {
   "cell_type": "markdown",
   "id": "8422c050-be89-454c-9ad7-72687fd55995",
   "metadata": {},
   "source": [
    "2. Even or Odd: Write a Python program that takes an integer as input and prints whether it is even or odd."
   ]
  },
  {
   "cell_type": "code",
   "execution_count": 1,
   "id": "aa4d2a6b-2cf6-4a19-a05a-65ef9d3d47fe",
   "metadata": {},
   "outputs": [
    {
     "name": "stdin",
     "output_type": "stream",
     "text": [
      "Enter an integer:  55\n"
     ]
    },
    {
     "name": "stdout",
     "output_type": "stream",
     "text": [
      "55 is odd.\n"
     ]
    }
   ],
   "source": [
    "num = int(input(\"Enter an integer: \"))\n",
    "\n",
    "if num % 2 == 0:\n",
    "    print(f\"{num} is even.\")\n",
    "else:\n",
    "    print(f\"{num} is odd.\")\n"
   ]
  },
  {
   "cell_type": "markdown",
   "id": "b3c5580d-c380-4036-b516-d127606bebbf",
   "metadata": {},
   "source": [
    "3. String Reverse: Write a Python function to reverse a given string and return the reversed string."
   ]
  },
  {
   "cell_type": "code",
   "execution_count": 2,
   "id": "47223f62-2938-4d69-aa4a-8a5327e820a2",
   "metadata": {},
   "outputs": [
    {
     "name": "stdin",
     "output_type": "stream",
     "text": [
      "Enter a string:  abcd\n"
     ]
    },
    {
     "name": "stdout",
     "output_type": "stream",
     "text": [
      "Reversed string: dcba\n"
     ]
    }
   ],
   "source": [
    "def reverse_string(input_string):\n",
    "    reversed_string = input_string[::-1]\n",
    "    return reversed_string\n",
    "\n",
    "original_string = input(\"Enter a string: \")\n",
    "result = reverse_string(original_string)\n",
    "print(f\"Reversed string: {result}\")\n"
   ]
  },
  {
   "cell_type": "markdown",
   "id": "7cd8d285-e018-4043-97fa-8e73a61f3547",
   "metadata": {},
   "source": [
    "4. Type Conversion: Given a list of integers, write a Python program to convert each element of the list to a string."
   ]
  },
  {
   "cell_type": "code",
   "execution_count": 3,
   "id": "36dba3f4-3e35-44f8-9396-5b0225c4b03f",
   "metadata": {},
   "outputs": [
    {
     "name": "stdout",
     "output_type": "stream",
     "text": [
      "Original List: [1, 2, 3, 4, 5]\n",
      "Converted List: ['1', '2', '3', '4', '5']\n"
     ]
    }
   ],
   "source": [
    "int_list = [1, 2, 3, 4, 5]\n",
    "str_list = [str(num) for num in int_list]\n",
    "\n",
    "print(\"Original List:\", int_list)\n",
    "print(\"Converted List:\", str_list)\n"
   ]
  },
  {
   "cell_type": "markdown",
   "id": "d7c739ad-fb4b-4798-8ba5-48a73ae866b2",
   "metadata": {},
   "source": [
    "5. Temperature Converter: Write a Python program that converts a temperature in Celsius to Fahrenheit. Take the Celsius temperature as input from the user."
   ]
  },
  {
   "cell_type": "code",
   "execution_count": 1,
   "id": "ead456b6-40a6-4b40-813e-6b68e9bb64af",
   "metadata": {},
   "outputs": [
    {
     "name": "stdin",
     "output_type": "stream",
     "text": [
      "Enter temperature in Celsius:  103\n"
     ]
    },
    {
     "name": "stdout",
     "output_type": "stream",
     "text": [
      "103.0 degrees Celsius is equal to 217.40 degrees Fahrenheit.\n"
     ]
    }
   ],
   "source": [
    "def celsius_to_fahrenheit(celsius):\n",
    "    return (celsius * 9/5) + 32\n",
    "\n",
    "celsius_temperature = float(input(\"Enter temperature in Celsius: \"))\n",
    "\n",
    "fahrenheit_temperature = celsius_to_fahrenheit(celsius_temperature)\n",
    "\n",
    "print(f\"{celsius_temperature} degrees Celsius is equal to {fahrenheit_temperature:.2f} degrees Fahrenheit.\")\n"
   ]
  },
  {
   "cell_type": "markdown",
   "id": "954d15ac-9d57-44c4-828a-5b251f960b80",
   "metadata": {},
   "source": [
    "6. Data Type Checker: Write a Python function that takes a variable as input and returns the data type of the variable as a string (e.g., “int”, “float”, “str”, “list”, etc.)."
   ]
  },
  {
   "cell_type": "code",
   "execution_count": 6,
   "id": "23319e2e-461d-4c08-9d6e-de60e4c70766",
   "metadata": {},
   "outputs": [
    {
     "name": "stdin",
     "output_type": "stream",
     "text": [
      " skdk\n"
     ]
    },
    {
     "name": "stdout",
     "output_type": "stream",
     "text": [
      "The variable is of type: str\n"
     ]
    }
   ],
   "source": [
    "def get_data_type(variable):\n",
    "    return str(type(variable).__name__)\n",
    "\n",
    "# Example usage:\n",
    "example_variable = input()\n",
    "print(f\"The variable is of type: {get_data_type(example_variable)}\")\n"
   ]
  },
  {
   "cell_type": "markdown",
   "id": "d428a638-87c8-4e5f-95cd-66d8aeac905c",
   "metadata": {},
   "source": [
    "7. String Palindrome: Write a Python function to check if a given string is a palindrome or not."
   ]
  },
  {
   "cell_type": "code",
   "execution_count": 3,
   "id": "2bb452bc-d91e-457c-b88b-fba0b0c6e80e",
   "metadata": {},
   "outputs": [
    {
     "name": "stdin",
     "output_type": "stream",
     "text": [
      "Enter a string:  AAASSVVDD\n"
     ]
    },
    {
     "name": "stdout",
     "output_type": "stream",
     "text": [
      "AAASSVVDD is not a palindrome.\n"
     ]
    }
   ],
   "source": [
    "def is_palindrome(input_str):\n",
    "    cleaned_str = ''.join(input_str.split()).lower()\n",
    "    return cleaned_str == cleaned_str[::-1]\n",
    "\n",
    "user_input = input(\"Enter a string: \")\n",
    "if is_palindrome(user_input):\n",
    "    print(f\"{user_input} is a palindrome.\")\n",
    "else:\n",
    "    print(f\"{user_input} is not a palindrome.\")\n"
   ]
  },
  {
   "cell_type": "markdown",
   "id": "6ddbc550-cca2-4b58-9cb0-e517822bff31",
   "metadata": {},
   "source": [
    "8. String Reversal with Slicing: Write a Python function to reverse a given string using slicing."
   ]
  },
  {
   "cell_type": "code",
   "execution_count": 2,
   "id": "d5557558-9c70-42f3-8a03-5c24c6c8aef7",
   "metadata": {},
   "outputs": [
    {
     "name": "stdout",
     "output_type": "stream",
     "text": [
      "uoy era woH\n"
     ]
    }
   ],
   "source": [
    "def reverse_string(s):\n",
    "    return s[::-1]\n",
    "    \n",
    "original_string = \"How are you\"\n",
    "reversed_string = reverse_string(original_string)\n",
    "print(reversed_string) "
   ]
  },
  {
   "cell_type": "markdown",
   "id": "c14e3228-d8bf-4d00-87e8-c3cb589c3cda",
   "metadata": {},
   "source": [
    "9. String Concatenation: Write a Python program that takes two strings as input and concatenates them into a single string without using the `+` operator."
   ]
  },
  {
   "cell_type": "code",
   "execution_count": 3,
   "id": "e4933242-78c7-4871-991f-37e0bf5ad1d6",
   "metadata": {},
   "outputs": [
    {
     "name": "stdin",
     "output_type": "stream",
     "text": [
      "Enter the first string:  Nazmul\n",
      "Enter the second string:  Islam\n"
     ]
    },
    {
     "name": "stdout",
     "output_type": "stream",
     "text": [
      "Concatenated string: NazmulIslam\n"
     ]
    }
   ],
   "source": [
    "def concatenate_strings(str1, str2):\n",
    "    return \"\".join([str1, str2])\n",
    "\n",
    "\n",
    "string1 = input(\"Enter the first string: \")\n",
    "string2 = input(\"Enter the second string: \")\n",
    "result = concatenate_strings(string1, string2)\n",
    "print(\"Concatenated string:\", result)\n"
   ]
  },
  {
   "cell_type": "markdown",
   "id": "d0fa00ee-d6f5-4961-84f9-144a3d83c02d",
   "metadata": {},
   "source": [
    "10. Typecasting Challenge: Given three variables: `a = ‘100’`, `b = 25`, and `c = ‘10.5’`, write a Python program to perform the following operations and print the results: – Convert `a` to an integer and add it to `b`. – Convert `c` to a float and subtract it from the result of the first operation. – Convert the final result to a string and concatenate it with the string ” is the answer.”"
   ]
  },
  {
   "cell_type": "code",
   "execution_count": 4,
   "id": "c226a78a-138c-488b-aa79-ed0168830214",
   "metadata": {},
   "outputs": [
    {
     "name": "stdout",
     "output_type": "stream",
     "text": [
      "114.5 is the answer.\n"
     ]
    }
   ],
   "source": [
    "a = '100'\n",
    "b = 25\n",
    "c = '10.5'\n",
    "\n",
    "result = int(a) + b\n",
    "result -= float(c)\n",
    "final_result = str(result) + \" is the answer.\"\n",
    "print(final_result)\n"
   ]
  },
  {
   "cell_type": "markdown",
   "id": "b128ac6d-6c23-47df-9079-08db791eacee",
   "metadata": {},
   "source": [
    "Python Conditional Statements:"
   ]
  },
  {
   "cell_type": "markdown",
   "id": "c27190eb-2cde-425b-8cf7-d3000e403d94",
   "metadata": {},
   "source": [
    "11. Positive, Negative, or Zero: Write a Python program that takes a number as input and prints whether it is positive, negative, or zero."
   ]
  },
  {
   "cell_type": "code",
   "execution_count": 5,
   "id": "ed400b09-b79b-4d02-a5cf-f38952f58f54",
   "metadata": {},
   "outputs": [
    {
     "name": "stdin",
     "output_type": "stream",
     "text": [
      "Enter a number:  10.5\n"
     ]
    },
    {
     "name": "stdout",
     "output_type": "stream",
     "text": [
      "Positive\n"
     ]
    }
   ],
   "source": [
    "number = float(input(\"Enter a number: \"))\n",
    "\n",
    "if number > 0:\n",
    "    print(\"Positive\")\n",
    "elif number < 0:\n",
    "    print(\"Negative\")\n",
    "else:\n",
    "    print(\"Zero\")\n"
   ]
  },
  {
   "cell_type": "markdown",
   "id": "043cf146-393f-4dec-8ae1-df1bb09f23d6",
   "metadata": {},
   "source": [
    "12. Largest of Three Numbers: Write a Python program that takes three numbers as input and prints the largest among them."
   ]
  },
  {
   "cell_type": "code",
   "execution_count": 6,
   "id": "08767c9f-961b-40a1-a928-525d40d72030",
   "metadata": {},
   "outputs": [
    {
     "name": "stdin",
     "output_type": "stream",
     "text": [
      "Enter the first number:  1\n",
      "Enter the second number:  2\n",
      "Enter the third number:  3\n"
     ]
    },
    {
     "name": "stdout",
     "output_type": "stream",
     "text": [
      "The largest number is: 3.0\n"
     ]
    }
   ],
   "source": [
    "num1 = float(input(\"Enter the first number: \"))\n",
    "num2 = float(input(\"Enter the second number: \"))\n",
    "num3 = float(input(\"Enter the third number: \"))\n",
    "\n",
    "largest = num1\n",
    "\n",
    "if num2 > largest:\n",
    "    largest = num2\n",
    "\n",
    "if num3 > largest:\n",
    "    largest = num3\n",
    "\n",
    "print(\"The largest number is:\", largest)\n"
   ]
  },
  {
   "cell_type": "markdown",
   "id": "47768709-c63d-4714-bdc1-a869bf1e3b4c",
   "metadata": {},
   "source": [
    "13. Leap Year Checker: Write a Python program that takes a year as input and determines if it is a leap year or not."
   ]
  },
  {
   "cell_type": "code",
   "execution_count": 7,
   "id": "e5e31e2c-8385-4e18-bf31-4df5b77f2028",
   "metadata": {},
   "outputs": [
    {
     "name": "stdin",
     "output_type": "stream",
     "text": [
      "Enter a year:  2030\n"
     ]
    },
    {
     "name": "stdout",
     "output_type": "stream",
     "text": [
      "2030 is not a leap year.\n"
     ]
    }
   ],
   "source": [
    "year = int(input(\"Enter a year: \"))\n",
    "\n",
    "if (year % 4 == 0 and year % 100 != 0) or (year % 400 == 0):\n",
    "    print(year, \"is a leap year.\")\n",
    "else:\n",
    "    print(year, \"is not a leap year.\")\n"
   ]
  },
  {
   "cell_type": "markdown",
   "id": "de718db7-6358-476d-8d70-9d45d018ca8d",
   "metadata": {},
   "source": [
    "14. Grades Classification: Write a Python program that takes a student’s percentage as input and prints their corresponding grade according to the following criteria: – 90% or above: A+ – 80-89%: A – 70-79%: B – 60-69%: C – Below 60%: Fail"
   ]
  },
  {
   "cell_type": "code",
   "execution_count": 8,
   "id": "b96ad2d6-f28b-4a64-8e0f-0294d1569f82",
   "metadata": {},
   "outputs": [
    {
     "name": "stdin",
     "output_type": "stream",
     "text": [
      "Enter the student's percentage:  80\n"
     ]
    },
    {
     "name": "stdout",
     "output_type": "stream",
     "text": [
      "Grade: A\n"
     ]
    }
   ],
   "source": [
    "percentage = float(input(\"Enter the student's percentage: \"))\n",
    "\n",
    "if percentage >= 90:\n",
    "    grade = \"A+\"\n",
    "elif percentage >= 80:\n",
    "    grade = \"A\"\n",
    "elif percentage >= 70:\n",
    "    grade = \"B\"\n",
    "elif percentage >= 60:\n",
    "    grade = \"C\"\n",
    "else:\n",
    "    grade = \"Fail\"\n",
    "\n",
    "print(\"Grade:\", grade)\n"
   ]
  },
  {
   "cell_type": "markdown",
   "id": "92282d09-1623-4b94-b1cf-712fa3de59c3",
   "metadata": {},
   "source": [
    "15. Vowel or Consonant: Write a Python program that takes a single character as input and determines whether it is a vowel or a consonant."
   ]
  },
  {
   "cell_type": "code",
   "execution_count": 9,
   "id": "afa7b81f-de8e-4db2-96d8-97b3d1acd673",
   "metadata": {},
   "outputs": [
    {
     "name": "stdin",
     "output_type": "stream",
     "text": [
      "Enter a character:  f\n"
     ]
    },
    {
     "name": "stdout",
     "output_type": "stream",
     "text": [
      "The character is a consonant.\n"
     ]
    }
   ],
   "source": [
    "character = input(\"Enter a character: \")\n",
    "\n",
    "character = character.lower()\n",
    "\n",
    "if character.isalpha() and len(character) == 1:\n",
    "    if character in 'aeiou':\n",
    "        print(\"The character is a vowel.\")\n",
    "    else:\n",
    "        print(\"The character is a consonant.\")\n",
    "else:\n",
    "    print(\"Please enter a valid single character.\")\n"
   ]
  },
  {
   "cell_type": "markdown",
   "id": "9f6b6211-5330-4d93-9828-ead0e2598774",
   "metadata": {},
   "source": [
    "16. Time Classification: Write a Python program that takes the time in hours (24-hour format) as input and prints “Good Morning”, “Good Afternoon”, “Good Evening”, or “Good Night” based on the time."
   ]
  },
  {
   "cell_type": "code",
   "execution_count": 10,
   "id": "1d16bb46-8a78-4f9a-bae6-629895334c12",
   "metadata": {},
   "outputs": [
    {
     "name": "stdin",
     "output_type": "stream",
     "text": [
      "Enter the time in hours (24-hour format):  23\n"
     ]
    },
    {
     "name": "stdout",
     "output_type": "stream",
     "text": [
      "Good Evening\n"
     ]
    }
   ],
   "source": [
    "hour = int(input(\"Enter the time in hours (24-hour format): \"))\n",
    "\n",
    "if 0 <= hour < 6:\n",
    "    print(\"Good Night\")\n",
    "elif 6 <= hour < 12:\n",
    "    print(\"Good Morning\")\n",
    "elif 12 <= hour < 18:\n",
    "    print(\"Good Afternoon\")\n",
    "else:\n",
    "    print(\"Good Evening\")\n"
   ]
  },
  {
   "cell_type": "markdown",
   "id": "c9cb4a43-1adb-444e-889d-f80e8c514108",
   "metadata": {},
   "source": [
    "17. Triangle Type Checker: Write a Python program that takes three sides of a triangle as input and determines whether it forms an equilateral, isosceles, or scalene triangle"
   ]
  },
  {
   "cell_type": "code",
   "execution_count": 11,
   "id": "a25aedc4-3647-4010-9828-e23d345595d8",
   "metadata": {},
   "outputs": [
    {
     "name": "stdin",
     "output_type": "stream",
     "text": [
      "Enter the length of the first side:  5\n",
      "Enter the length of the second side:  8\n",
      "Enter the length of the third side:  9\n"
     ]
    },
    {
     "name": "stdout",
     "output_type": "stream",
     "text": [
      "It forms a scalene triangle.\n"
     ]
    }
   ],
   "source": [
    "side1 = float(input(\"Enter the length of the first side: \"))\n",
    "side2 = float(input(\"Enter the length of the second side: \"))\n",
    "side3 = float(input(\"Enter the length of the third side: \"))\n",
    "\n",
    "if side1 == side2 == side3:\n",
    "    print(\"It forms an equilateral triangle.\")\n",
    "elif side1 == side2 or side1 == side3 or side2 == side3:\n",
    "    print(\"It forms an isosceles triangle.\")\n",
    "else:\n",
    "    print(\"It forms a scalene triangle.\")\n"
   ]
  },
  {
   "cell_type": "markdown",
   "id": "74d089b7-02a8-458c-942b-8822a01e8a10",
   "metadata": {},
   "source": [
    "18. Quadratic Equation Solver: Write a Python program that takes the coefficients (a, b, c) of a quadratic equation as input and calculates and prints the real roots (if they exist) or a message indicating the complex roots."
   ]
  },
  {
   "cell_type": "code",
   "execution_count": 12,
   "id": "ab0e847e-8f98-4e6b-9bd1-30824437515b",
   "metadata": {},
   "outputs": [
    {
     "name": "stdin",
     "output_type": "stream",
     "text": [
      "Enter the coefficient a:  1\n",
      "Enter the coefficient b:  2\n",
      "Enter the coefficient c:  3\n"
     ]
    },
    {
     "name": "stdout",
     "output_type": "stream",
     "text": [
      "The roots are complex.\n",
      "Root 1: (-1+1.4142135623730951j)\n",
      "Root 2: (-1-1.4142135623730951j)\n"
     ]
    }
   ],
   "source": [
    "import cmath\n",
    "\n",
    "a = float(input(\"Enter the coefficient a: \"))\n",
    "b = float(input(\"Enter the coefficient b: \"))\n",
    "c = float(input(\"Enter the coefficient c: \"))\n",
    "\n",
    "discriminant = b**2 - 4*a*c\n",
    "\n",
    "root1 = (-b + cmath.sqrt(discriminant)) / (2*a)\n",
    "root2 = (-b - cmath.sqrt(discriminant)) / (2*a)\n",
    "\n",
    "if discriminant > 0:\n",
    "    print(\"The roots are real and distinct.\")\n",
    "    print(\"Root 1:\", root1)\n",
    "    print(\"Root 2:\", root2)\n",
    "elif discriminant == 0:\n",
    "    print(\"The roots are real and equal.\")\n",
    "    print(\"Root:\", root1)\n",
    "else:\n",
    "    print(\"The roots are complex.\")\n",
    "    print(\"Root 1:\", root1)\n",
    "    print(\"Root 2:\", root2)\n"
   ]
  },
  {
   "cell_type": "markdown",
   "id": "e31a0619-0c8e-4113-8882-1395c37f8eff",
   "metadata": {},
   "source": [
    "19. Number Ranges: Write a Python program that takes an integer as input and prints whether the number falls within the ranges: 0-50, 51-100, 101-150, or above 150"
   ]
  },
  {
   "cell_type": "code",
   "execution_count": 13,
   "id": "d462af60-301d-4bd5-b26e-26fd1f78a952",
   "metadata": {},
   "outputs": [
    {
     "name": "stdin",
     "output_type": "stream",
     "text": [
      "Enter a number:  15\n"
     ]
    },
    {
     "name": "stdout",
     "output_type": "stream",
     "text": [
      "The number falls within the range 0-50.\n"
     ]
    }
   ],
   "source": [
    "number = int(input(\"Enter a number: \"))\n",
    "\n",
    "if number >= 0 and number <= 50:\n",
    "    print(\"The number falls within the range 0-50.\")\n",
    "elif number >= 51 and number <= 100:\n",
    "    print(\"The number falls within the range 51-100.\")\n",
    "elif number >= 101 and number <= 150:\n",
    "    print(\"The number falls within the range 101-150.\")\n",
    "else:\n",
    "    print(\"The number is above 150.\")\n"
   ]
  },
  {
   "cell_type": "markdown",
   "id": "5e160324-4c8c-470b-9679-54c3c8058e60",
   "metadata": {},
   "source": [
    "For & While Loops:"
   ]
  },
  {
   "cell_type": "markdown",
   "id": "ca0c3637-91a8-425a-b0e8-7780aa4a0766",
   "metadata": {},
   "source": [
    "20. Sum of N Numbers: Write a Python program using a for loop to calculate the sum of the first N natural numbers, where N is taken as input from the user"
   ]
  },
  {
   "cell_type": "code",
   "execution_count": 14,
   "id": "4af8cd81-b206-44d4-bdc6-ebc6559321fa",
   "metadata": {},
   "outputs": [
    {
     "name": "stdin",
     "output_type": "stream",
     "text": [
      "Enter the value of N:  5\n"
     ]
    },
    {
     "name": "stdout",
     "output_type": "stream",
     "text": [
      "The sum of the first 5 natural numbers is: 15\n"
     ]
    }
   ],
   "source": [
    "N = int(input(\"Enter the value of N: \"))\n",
    "\n",
    "total = 0\n",
    "\n",
    "for i in range(1, N + 1):\n",
    "    total += i\n",
    "\n",
    "print(\"The sum of the first\", N, \"natural numbers is:\", total)\n"
   ]
  },
  {
   "cell_type": "markdown",
   "id": "7c7d4ac1-bbaf-488c-8262-719b8edfbac8",
   "metadata": {},
   "source": [
    "21. Factorial Calculator: Write a Python program using a while loop to calculate the factorial of a given number N."
   ]
  },
  {
   "cell_type": "code",
   "execution_count": 15,
   "id": "a30c2dbd-27a7-40b3-b7b5-dd2397f2b3c8",
   "metadata": {},
   "outputs": [
    {
     "name": "stdin",
     "output_type": "stream",
     "text": [
      "Enter a number to calculate its factorial:  10\n"
     ]
    },
    {
     "name": "stdout",
     "output_type": "stream",
     "text": [
      "The factorial of 10 is: 3628800\n"
     ]
    }
   ],
   "source": [
    "N = int(input(\"Enter a number to calculate its factorial: \"))\n",
    "\n",
    "factorial = 1\n",
    "current_number = 1\n",
    "\n",
    "while current_number <= N:\n",
    "    factorial *= current_number\n",
    "    current_number += 1\n",
    "\n",
    "print(\"The factorial of\", N, \"is:\", factorial)\n"
   ]
  },
  {
   "cell_type": "markdown",
   "id": "8027bd3a-5d2a-4380-8b5a-2c569c3400b6",
   "metadata": {},
   "source": [
    "22. Table of a Number: Write a Python program using a for loop to print the multiplication table of a given number N."
   ]
  },
  {
   "cell_type": "code",
   "execution_count": 1,
   "id": "a9d1abfc-c398-45b8-8dca-2428af6b937d",
   "metadata": {},
   "outputs": [
    {
     "name": "stdin",
     "output_type": "stream",
     "text": [
      "Enter a number :  5\n"
     ]
    },
    {
     "name": "stdout",
     "output_type": "stream",
     "text": [
      "Multiplication Table of 5:\n",
      "5 x 1 = 5\n",
      "5 x 2 = 10\n",
      "5 x 3 = 15\n",
      "5 x 4 = 20\n",
      "5 x 5 = 25\n",
      "5 x 6 = 30\n",
      "5 x 7 = 35\n",
      "5 x 8 = 40\n",
      "5 x 9 = 45\n",
      "5 x 10 = 50\n"
     ]
    }
   ],
   "source": [
    "num = int(input(\"Enter a number : \"))\n",
    "\n",
    "print(f\"Multiplication Table of {num}:\")\n",
    "for i in range(1, 11):\n",
    "    print(f\"{num} x {i} = {num*i}\")\n"
   ]
  },
  {
   "cell_type": "markdown",
   "id": "13732efc-c642-4b63-8117-daba2ed92ce8",
   "metadata": {},
   "source": [
    "23. Count Digits in a Number: Write a Python program using a while loop to count the number of digits in a given integer N."
   ]
  },
  {
   "cell_type": "code",
   "execution_count": 2,
   "id": "eff8c3be-d70a-4664-b7f4-522110a16d75",
   "metadata": {},
   "outputs": [
    {
     "name": "stdin",
     "output_type": "stream",
     "text": [
      "Enter an integer:  10\n"
     ]
    },
    {
     "name": "stdout",
     "output_type": "stream",
     "text": [
      "Number of digits: 2\n"
     ]
    }
   ],
   "source": [
    "N = int(input(\"Enter an integer: \"))\n",
    "digit_count = 0\n",
    "if N == 0:\n",
    "    digit_count = 1\n",
    "while N != 0:\n",
    "    digit_count += 1\n",
    "    N //= 10\n",
    "print(\"Number of digits:\", digit_count)\n"
   ]
  },
  {
   "cell_type": "markdown",
   "id": "714955af-7885-42d2-b88d-b091347ba047",
   "metadata": {},
   "source": [
    "24. Fibonacci Sequence: Write a Python program using a for loop to generate the Fibonacci sequence up to a given limit N."
   ]
  },
  {
   "cell_type": "code",
   "execution_count": 3,
   "id": "22341906-2c51-4bd4-87b4-07c3aae17ccf",
   "metadata": {},
   "outputs": [
    {
     "name": "stdin",
     "output_type": "stream",
     "text": [
      "Enter the limit for Fibonacci sequence:  5\n"
     ]
    },
    {
     "name": "stdout",
     "output_type": "stream",
     "text": [
      "Fibonacci sequence up to 5 : [0, 1, 1, 2, 3]\n"
     ]
    }
   ],
   "source": [
    "N = int(input(\"Enter the limit for Fibonacci sequence: \"))\n",
    "fibonacci_sequence = [0, 1]\n",
    "for i in range(2, N):\n",
    "    next_fibonacci = fibonacci_sequence[i-1] + fibonacci_sequence[i-2]\n",
    "    if next_fibonacci > N: \n",
    "        break\n",
    "    fibonacci_sequence.append(next_fibonacci)\n",
    "\n",
    "print(\"Fibonacci sequence up to\", N, \":\", fibonacci_sequence)\n"
   ]
  },
  {
   "cell_type": "markdown",
   "id": "a7630dcc-8243-4346-af9a-6539fc72fa42",
   "metadata": {},
   "source": [
    "25. Sum of Even Numbers: Write a Python program using a while loop to calculate the sum of all even numbers between 1 and N, where N is taken as input from the user."
   ]
  },
  {
   "cell_type": "code",
   "execution_count": 4,
   "id": "d1eed95c-9d84-4f82-a6d0-5d3f8dd9bcfd",
   "metadata": {},
   "outputs": [
    {
     "name": "stdin",
     "output_type": "stream",
     "text": [
      "Enter a number (N):  5\n"
     ]
    },
    {
     "name": "stdout",
     "output_type": "stream",
     "text": [
      "Sum of even numbers between 1 and 5 : 6\n"
     ]
    }
   ],
   "source": [
    "N = int(input(\"Enter a number: \"))\n",
    "\n",
    "sum_of_evens = 0\n",
    "current_number = 2\n",
    "\n",
    "while current_number <= N:\n",
    "    sum_of_evens += current_number\n",
    "    current_number += 2 \n",
    "\n",
    "print(\"Sum of even numbers between 1 and\", N, \":\", sum_of_evens)\n"
   ]
  },
  {
   "cell_type": "markdown",
   "id": "2cf1a6b1-89db-4ed1-8ff1-de59a445fee7",
   "metadata": {},
   "source": [
    "26. Print Patterns: Write a Python program using nested for loops to print various patterns, such as a right-angled triangle, an inverted right-angled triangle, and so on."
   ]
  },
  {
   "cell_type": "markdown",
   "id": "78a54ced-4904-4f82-8752-7fd3dd5ea77b",
   "metadata": {},
   "source": [
    "Right-angled Triangle:"
   ]
  },
  {
   "cell_type": "code",
   "execution_count": 6,
   "id": "02bf7480-79a9-4122-bb79-5643b5aeebcc",
   "metadata": {},
   "outputs": [
    {
     "name": "stdin",
     "output_type": "stream",
     "text": [
      "Enter the number of rows:  2\n"
     ]
    },
    {
     "name": "stdout",
     "output_type": "stream",
     "text": [
      "* \n",
      "* * \n"
     ]
    }
   ],
   "source": [
    "rows = int(input(\"Enter the number of rows: \"))\n",
    "\n",
    "for i in range(1, rows + 1):\n",
    "    for j in range(1, i + 1):\n",
    "        print(\"*\", end=\" \")\n",
    "    print()"
   ]
  },
  {
   "cell_type": "markdown",
   "id": "17969e0a-cecf-452a-a0b0-fdfb47e5fcd9",
   "metadata": {},
   "source": [
    "Inverted Right-angled Triangle:"
   ]
  },
  {
   "cell_type": "code",
   "execution_count": 7,
   "id": "ddfae299-8271-4dfc-bc7f-b70ee9023e45",
   "metadata": {},
   "outputs": [
    {
     "name": "stdin",
     "output_type": "stream",
     "text": [
      "Enter the number of rows:  3\n"
     ]
    },
    {
     "name": "stdout",
     "output_type": "stream",
     "text": [
      "* * * \n",
      "* * \n",
      "* \n"
     ]
    }
   ],
   "source": [
    "rows = int(input(\"Enter the number of rows: \"))\n",
    "\n",
    "for i in range(rows, 0, -1):\n",
    "    for j in range(1, i + 1):\n",
    "        print(\"*\", end=\" \")\n",
    "    print()"
   ]
  },
  {
   "cell_type": "markdown",
   "id": "6e85bd61-c67b-46f1-a392-f80a44fb5a35",
   "metadata": {},
   "source": [
    "Pyramid Pattern"
   ]
  },
  {
   "cell_type": "code",
   "execution_count": 1,
   "id": "a0c41eaf-2052-4f4c-ba5b-270918385ab1",
   "metadata": {},
   "outputs": [
    {
     "name": "stdin",
     "output_type": "stream",
     "text": [
      "Enter the number of rows:  5\n"
     ]
    },
    {
     "name": "stdout",
     "output_type": "stream",
     "text": [
      "    * \n",
      "   * * \n",
      "  * * * \n",
      " * * * * \n",
      "* * * * * \n"
     ]
    }
   ],
   "source": [
    "rows = int(input(\"Enter the number of rows: \"))\n",
    "\n",
    "for i in range(1, rows + 1):\n",
    "    print(\" \" * (rows - i) + \"* \" * i)\n",
    "\n"
   ]
  },
  {
   "cell_type": "markdown",
   "id": "9bb95a74-9554-474c-ba53-256e3034be1c",
   "metadata": {},
   "source": [
    "Inverted Pyramid Pattern:"
   ]
  },
  {
   "cell_type": "code",
   "execution_count": 2,
   "id": "27177a50-0f2f-4d1d-8c8c-ec772823c8dc",
   "metadata": {},
   "outputs": [
    {
     "name": "stdin",
     "output_type": "stream",
     "text": [
      "Enter the number of rows:  5\n"
     ]
    },
    {
     "name": "stdout",
     "output_type": "stream",
     "text": [
      "* * * * * \n",
      " * * * * \n",
      "  * * * \n",
      "   * * \n",
      "    * \n"
     ]
    }
   ],
   "source": [
    "rows = int(input(\"Enter the number of rows: \"))\n",
    "\n",
    "for i in range(rows, 0, -1):\n",
    "    print(\" \" * (rows - i) + \"* \" * i)\n"
   ]
  },
  {
   "cell_type": "markdown",
   "id": "0cdb9464-9a6b-412e-8f03-5f690d7384ad",
   "metadata": {},
   "source": [
    "Diamond Pattern:"
   ]
  },
  {
   "cell_type": "code",
   "execution_count": 4,
   "id": "2b9a8490-ed21-4d34-a13b-76f859d5b518",
   "metadata": {},
   "outputs": [
    {
     "name": "stdin",
     "output_type": "stream",
     "text": [
      "Enter the number of rows (should be odd):  7\n"
     ]
    },
    {
     "name": "stdout",
     "output_type": "stream",
     "text": [
      "   * \n",
      "  * * * \n",
      " * * * * * \n",
      "* * * * * * * \n",
      " * * * * * \n",
      "  * * * \n",
      "   * \n"
     ]
    }
   ],
   "source": [
    "rows = int(input(\"Enter the number of rows (should be odd): \"))\n",
    "\n",
    "for i in range(1, rows + 1, 2):\n",
    "    print(\" \" * ((rows - i) // 2) + \"* \" * i)\n",
    "for i in range(rows - 2, 0, -2):\n",
    "    print(\" \" * ((rows - i) // 2) + \"* \" * i)\n"
   ]
  },
  {
   "cell_type": "markdown",
   "id": "cf42344e-62ed-4680-b6ad-863e8b463a34",
   "metadata": {},
   "source": [
    "27. Prime Number Checker: Write a Python program using a while loop to check if a given number N is prime or not."
   ]
  },
  {
   "cell_type": "code",
   "execution_count": 5,
   "id": "c6fc712b-dc28-4056-86a8-655a93dce88d",
   "metadata": {},
   "outputs": [
    {
     "name": "stdin",
     "output_type": "stream",
     "text": [
      "Enter a number to check if it's prime:  5\n"
     ]
    },
    {
     "name": "stdout",
     "output_type": "stream",
     "text": [
      "5 is a prime number\n"
     ]
    }
   ],
   "source": [
    "N = int(input(\"Enter a number to check if it's prime: \"))\n",
    "\n",
    "is_prime = True\n",
    "divisor = 2\n",
    "\n",
    "if N <= 1:\n",
    "    is_prime = False\n",
    "\n",
    "while divisor * divisor <= N and is_prime:\n",
    "    if N % divisor == 0:\n",
    "        is_prime = False\n",
    "    divisor += 1\n",
    "\n",
    "if is_prime:\n",
    "    print(N, \"is a prime number\")\n",
    "else:\n",
    "    print(N, \"is not a prime number\")\n"
   ]
  },
  {
   "cell_type": "markdown",
   "id": "102b2940-5ac4-403c-9371-011e5c5f7e15",
   "metadata": {},
   "source": [
    "28. List Manipulation: Given a list of integers, write a Python program using a for loop to find the sum, average, maximum, and minimum values in the list"
   ]
  },
  {
   "cell_type": "code",
   "execution_count": 6,
   "id": "393139a0-a85e-48e0-80d8-34a1050c4c33",
   "metadata": {},
   "outputs": [
    {
     "name": "stdout",
     "output_type": "stream",
     "text": [
      "List: [10, 5, 20, 15, 30]\n",
      "Sum: 80\n",
      "Average: 16.0\n",
      "Maximum: 30\n",
      "Minimum: 5\n"
     ]
    }
   ],
   "source": [
    "numbers = [10, 5, 20, 15, 30]\n",
    "\n",
    "total = 0\n",
    "minimum = maximum = numbers[0]\n",
    "\n",
    "for num in numbers:\n",
    "    total += num\n",
    "    if num < minimum:\n",
    "        minimum = num\n",
    "    if num > maximum:\n",
    "        maximum = num\n",
    "        \n",
    "average = total / len(numbers)\n",
    "\n",
    "print(\"List:\", numbers)\n",
    "print(\"Sum:\", total)\n",
    "print(\"Average:\", average)\n",
    "print(\"Maximum:\", maximum)\n",
    "print(\"Minimum:\", minimum)\n"
   ]
  },
  {
   "cell_type": "markdown",
   "id": "607fdfcc-0833-46c3-a0db-654b6e3a8b2c",
   "metadata": {},
   "source": [
    "29. Reverse String: Write a Python program using a while loop to reverse a given string."
   ]
  },
  {
   "cell_type": "code",
   "execution_count": 7,
   "id": "041cc02b-864c-42d5-a763-994d1a15a973",
   "metadata": {},
   "outputs": [
    {
     "name": "stdin",
     "output_type": "stream",
     "text": [
      "Enter a string:  abc\n"
     ]
    },
    {
     "name": "stdout",
     "output_type": "stream",
     "text": [
      "Reversed string: cba\n"
     ]
    }
   ],
   "source": [
    "input_string = input(\"Enter a string: \")\n",
    "\n",
    "reversed_string = \"\"\n",
    "index = len(input_string) - 1\n",
    "\n",
    "while index >= 0:\n",
    "    reversed_string += input_string[index]\n",
    "    index -= 1\n",
    "print(\"Reversed string:\", reversed_string)\n"
   ]
  },
  {
   "cell_type": "markdown",
   "id": "4cd3b362-fa10-4a9f-b292-829c58212901",
   "metadata": {},
   "source": [
    "Nested Loops:"
   ]
  },
  {
   "cell_type": "markdown",
   "id": "28bfd13f-862a-4ee7-accd-37be2693811a",
   "metadata": {},
   "source": [
    "30. Multiplication Table: Write a Python program using nested loops to print the multiplication table from 1 to 10."
   ]
  },
  {
   "cell_type": "code",
   "execution_count": 8,
   "id": "e9137c3a-2e2b-4a45-87e8-2c42d1151e1e",
   "metadata": {},
   "outputs": [
    {
     "name": "stdout",
     "output_type": "stream",
     "text": [
      "Multiplication Table for 1:\n",
      "1 x 1 = 1\n",
      "1 x 2 = 2\n",
      "1 x 3 = 3\n",
      "1 x 4 = 4\n",
      "1 x 5 = 5\n",
      "1 x 6 = 6\n",
      "1 x 7 = 7\n",
      "1 x 8 = 8\n",
      "1 x 9 = 9\n",
      "1 x 10 = 10\n",
      "\n",
      "Multiplication Table for 2:\n",
      "2 x 1 = 2\n",
      "2 x 2 = 4\n",
      "2 x 3 = 6\n",
      "2 x 4 = 8\n",
      "2 x 5 = 10\n",
      "2 x 6 = 12\n",
      "2 x 7 = 14\n",
      "2 x 8 = 16\n",
      "2 x 9 = 18\n",
      "2 x 10 = 20\n",
      "\n",
      "Multiplication Table for 3:\n",
      "3 x 1 = 3\n",
      "3 x 2 = 6\n",
      "3 x 3 = 9\n",
      "3 x 4 = 12\n",
      "3 x 5 = 15\n",
      "3 x 6 = 18\n",
      "3 x 7 = 21\n",
      "3 x 8 = 24\n",
      "3 x 9 = 27\n",
      "3 x 10 = 30\n",
      "\n",
      "Multiplication Table for 4:\n",
      "4 x 1 = 4\n",
      "4 x 2 = 8\n",
      "4 x 3 = 12\n",
      "4 x 4 = 16\n",
      "4 x 5 = 20\n",
      "4 x 6 = 24\n",
      "4 x 7 = 28\n",
      "4 x 8 = 32\n",
      "4 x 9 = 36\n",
      "4 x 10 = 40\n",
      "\n",
      "Multiplication Table for 5:\n",
      "5 x 1 = 5\n",
      "5 x 2 = 10\n",
      "5 x 3 = 15\n",
      "5 x 4 = 20\n",
      "5 x 5 = 25\n",
      "5 x 6 = 30\n",
      "5 x 7 = 35\n",
      "5 x 8 = 40\n",
      "5 x 9 = 45\n",
      "5 x 10 = 50\n",
      "\n",
      "Multiplication Table for 6:\n",
      "6 x 1 = 6\n",
      "6 x 2 = 12\n",
      "6 x 3 = 18\n",
      "6 x 4 = 24\n",
      "6 x 5 = 30\n",
      "6 x 6 = 36\n",
      "6 x 7 = 42\n",
      "6 x 8 = 48\n",
      "6 x 9 = 54\n",
      "6 x 10 = 60\n",
      "\n",
      "Multiplication Table for 7:\n",
      "7 x 1 = 7\n",
      "7 x 2 = 14\n",
      "7 x 3 = 21\n",
      "7 x 4 = 28\n",
      "7 x 5 = 35\n",
      "7 x 6 = 42\n",
      "7 x 7 = 49\n",
      "7 x 8 = 56\n",
      "7 x 9 = 63\n",
      "7 x 10 = 70\n",
      "\n",
      "Multiplication Table for 8:\n",
      "8 x 1 = 8\n",
      "8 x 2 = 16\n",
      "8 x 3 = 24\n",
      "8 x 4 = 32\n",
      "8 x 5 = 40\n",
      "8 x 6 = 48\n",
      "8 x 7 = 56\n",
      "8 x 8 = 64\n",
      "8 x 9 = 72\n",
      "8 x 10 = 80\n",
      "\n",
      "Multiplication Table for 9:\n",
      "9 x 1 = 9\n",
      "9 x 2 = 18\n",
      "9 x 3 = 27\n",
      "9 x 4 = 36\n",
      "9 x 5 = 45\n",
      "9 x 6 = 54\n",
      "9 x 7 = 63\n",
      "9 x 8 = 72\n",
      "9 x 9 = 81\n",
      "9 x 10 = 90\n",
      "\n",
      "Multiplication Table for 10:\n",
      "10 x 1 = 10\n",
      "10 x 2 = 20\n",
      "10 x 3 = 30\n",
      "10 x 4 = 40\n",
      "10 x 5 = 50\n",
      "10 x 6 = 60\n",
      "10 x 7 = 70\n",
      "10 x 8 = 80\n",
      "10 x 9 = 90\n",
      "10 x 10 = 100\n",
      "\n"
     ]
    }
   ],
   "source": [
    "for i in range(1, 11):\n",
    "    print(f\"Multiplication Table for {i}:\")\n",
    "    for j in range(1, 11):\n",
    "        print(f\"{i} x {j} = {i*j}\")\n",
    "    print()\n"
   ]
  },
  {
   "cell_type": "markdown",
   "id": "fe71911e-08e2-4edb-8efb-1dd67cf27115",
   "metadata": {},
   "source": [
    "31. Print Patterns: Write a Python program using nested loops to print the following pattern:\n",
    "\n",
    "*\n",
    "\n",
    "**\n",
    "\n",
    "***\n",
    "\n",
    "****\n",
    "\n",
    "*****"
   ]
  },
  {
   "cell_type": "code",
   "execution_count": 9,
   "id": "ba0836a0-d29f-4ce1-b6d8-0ba645798f77",
   "metadata": {},
   "outputs": [
    {
     "name": "stdin",
     "output_type": "stream",
     "text": [
      "Enter the number of rows:  5\n"
     ]
    },
    {
     "name": "stdout",
     "output_type": "stream",
     "text": [
      "*\n",
      "**\n",
      "***\n",
      "****\n",
      "*****\n"
     ]
    }
   ],
   "source": [
    "num_rows = int(input(\"Enter the number of rows: \"))\n",
    "for i in range(1, num_rows + 1):\n",
    "    for j in range(i):\n",
    "        print(\"*\", end=\"\")\n",
    "    print()"
   ]
  },
  {
   "cell_type": "markdown",
   "id": "fa236eae-73a6-40ba-ab70-7a1eb9ce7f98",
   "metadata": {},
   "source": [
    "32. Matrix Multiplication: Write a Python program using nested loops to multiply two matrices."
   ]
  },
  {
   "cell_type": "code",
   "execution_count": 11,
   "id": "8468ef6b-44dd-486b-bff6-15b4a36a96a3",
   "metadata": {},
   "outputs": [
    {
     "name": "stdin",
     "output_type": "stream",
     "text": [
      "Enter the number of rows for matrix1:  1\n",
      "Enter the number of columns for matrix1:  1\n"
     ]
    },
    {
     "name": "stdout",
     "output_type": "stream",
     "text": [
      "Enter the elements of matrix1:\n"
     ]
    },
    {
     "name": "stdin",
     "output_type": "stream",
     "text": [
      "Enter element at position (1,1):  1\n",
      "Enter the number of rows for matrix2:  2\n",
      "Enter the number of columns for matrix2:  2\n"
     ]
    },
    {
     "name": "stdout",
     "output_type": "stream",
     "text": [
      "Enter the elements of matrix2:\n"
     ]
    },
    {
     "name": "stdin",
     "output_type": "stream",
     "text": [
      "Enter element at position (1,1):  1\n",
      "Enter element at position (1,2):  1\n",
      "Enter element at position (2,1):  2\n",
      "Enter element at position (2,2):  2\n"
     ]
    },
    {
     "name": "stdout",
     "output_type": "stream",
     "text": [
      "Matrices cannot be multiplied!\n"
     ]
    }
   ],
   "source": [
    "def multiply_matrices(matrix1, matrix2):\n",
    "    result = []\n",
    "\n",
    "    if len(matrix1[0]) != len(matrix2):\n",
    "        print(\"Matrices cannot be multiplied!\")\n",
    "        return None\n",
    "\n",
    "    for i in range(len(matrix1)):\n",
    "        result.append([])\n",
    "        for j in range(len(matrix2[0])):\n",
    "            result[i].append(0)\n",
    "\n",
    "    for i in range(len(matrix1)):\n",
    "        for j in range(len(matrix2[0])):\n",
    "            for k in range(len(matrix2)):\n",
    "                result[i][j] += matrix1[i][k] * matrix2[k][j]\n",
    "\n",
    "    return result\n",
    "\n",
    "matrix1_rows = int(input(\"Enter the number of rows for matrix1: \"))\n",
    "matrix1_cols = int(input(\"Enter the number of columns for matrix1: \"))\n",
    "print(\"Enter the elements of matrix1:\")\n",
    "matrix1 = []\n",
    "for i in range(matrix1_rows):\n",
    "    row = []\n",
    "    for j in range(matrix1_cols):\n",
    "        element = int(input(f\"Enter element at position ({i+1},{j+1}): \"))\n",
    "        row.append(element)\n",
    "    matrix1.append(row)\n",
    "\n",
    "matrix2_rows = int(input(\"Enter the number of rows for matrix2: \"))\n",
    "matrix2_cols = int(input(\"Enter the number of columns for matrix2: \"))\n",
    "print(\"Enter the elements of matrix2:\")\n",
    "matrix2 = []\n",
    "for i in range(matrix2_rows):\n",
    "    row = []\n",
    "    for j in range(matrix2_cols):\n",
    "        element = int(input(f\"Enter element at position ({i+1},{j+1}): \"))\n",
    "        row.append(element)\n",
    "    matrix2.append(row)\n",
    "\n",
    "result_matrix = multiply_matrices(matrix1, matrix2)\n",
    "\n",
    "if result_matrix:\n",
    "    print(\"Result of matrix multiplication:\")\n",
    "    for row in result_matrix:\n",
    "        print(row)\n"
   ]
  },
  {
   "cell_type": "markdown",
   "id": "cd8559a3-37bf-48cc-9819-453e1c894994",
   "metadata": {},
   "source": [
    "33. Chessboard Pattern: Write a Python program using nested loops to print a chessboard pattern (alternating “X” and “O” characters) of size 8×8.34. Number Pyramid: Write a Python program using nested loops to print a number pyramid like the following: 1 22 333 4444 55555"
   ]
  },
  {
   "cell_type": "code",
   "execution_count": null,
   "id": "f8243b73-7b7c-45a7-9621-f7f015adf89f",
   "metadata": {},
   "outputs": [],
   "source": [
    "Chessboard Pattern:"
   ]
  },
  {
   "cell_type": "code",
   "execution_count": 12,
   "id": "245a933e-fce6-457f-9e46-009c8eb27011",
   "metadata": {},
   "outputs": [
    {
     "name": "stdout",
     "output_type": "stream",
     "text": [
      "X O X O X O X O \n",
      "O X O X O X O X \n",
      "X O X O X O X O \n",
      "O X O X O X O X \n",
      "X O X O X O X O \n",
      "O X O X O X O X \n",
      "X O X O X O X O \n",
      "O X O X O X O X \n"
     ]
    }
   ],
   "source": [
    "for i in range(8):\n",
    "    for j in range(8):\n",
    "        if (i + j) % 2 == 0:\n",
    "            print(\"X\", end=\" \")\n",
    "        else:\n",
    "            print(\"O\", end=\" \")\n",
    "    print()"
   ]
  },
  {
   "cell_type": "markdown",
   "id": "f913c203-3575-4afd-a7d9-b7d6c8b22769",
   "metadata": {},
   "source": [
    "Number Pyramid:"
   ]
  },
  {
   "cell_type": "code",
   "execution_count": 13,
   "id": "6b68c5e1-0001-4f45-ae03-49c1ff156875",
   "metadata": {},
   "outputs": [
    {
     "name": "stdin",
     "output_type": "stream",
     "text": [
      "Enter the number of rows for the pyramid:  5\n"
     ]
    },
    {
     "name": "stdout",
     "output_type": "stream",
     "text": [
      "1 \n",
      "2 2 \n",
      "3 3 3 \n",
      "4 4 4 4 \n",
      "5 5 5 5 5 \n"
     ]
    }
   ],
   "source": [
    "num_rows = int(input(\"Enter the number of rows for the pyramid: \"))\n",
    "for i in range(1, num_rows + 1):\n",
    "    for j in range(i):\n",
    "        print(i, end=\" \")\n",
    "    print()\n"
   ]
  },
  {
   "cell_type": "markdown",
   "id": "2bc0e69d-7733-42c9-9a0a-3d00c31a875c",
   "metadata": {},
   "source": [
    "List Problems:"
   ]
  },
  {
   "cell_type": "markdown",
   "id": "da989b0e-e6b5-469c-8086-6931baa969d4",
   "metadata": {},
   "source": [
    "34. List Sum: Write a Python program to find the sum of all elements in a given list of integers."
   ]
  },
  {
   "cell_type": "code",
   "execution_count": 14,
   "id": "fad113c0-290d-426f-b642-8287183816af",
   "metadata": {},
   "outputs": [
    {
     "name": "stdout",
     "output_type": "stream",
     "text": [
      "Sum of all elements in the list: 15\n"
     ]
    }
   ],
   "source": [
    "numbers = [1,2,3,4,5]\n",
    "total = 0\n",
    "for num in numbers:\n",
    "    total += num\n",
    "print(\"Sum of all elements in the list:\", total)"
   ]
  },
  {
   "cell_type": "markdown",
   "id": "136c6255-4a75-4ffd-aed1-156b3309dc67",
   "metadata": {},
   "source": [
    "35. List Average: Write a Python program to calculate the average of all elements in a given list of integers."
   ]
  },
  {
   "cell_type": "code",
   "execution_count": 15,
   "id": "7e3da0d9-31e9-4a19-a2a9-245f60c481fa",
   "metadata": {},
   "outputs": [
    {
     "name": "stdout",
     "output_type": "stream",
     "text": [
      "Average of all elements in the list: 30.0\n"
     ]
    }
   ],
   "source": [
    "numbers = [10, 20, 30, 40, 50]\n",
    "average = sum(numbers) / len(numbers)\n",
    "print(\"Average of all elements in the list:\", average)\n"
   ]
  },
  {
   "cell_type": "markdown",
   "id": "6b2f4cd4-2608-4433-9e72-016a5bd9164e",
   "metadata": {},
   "source": [
    "36. List Max and Min: Write a Python program to find the maximum and minimum values in a given list of integers."
   ]
  },
  {
   "cell_type": "code",
   "execution_count": 16,
   "id": "16e6c101-fa2c-45af-8332-858d8f14241a",
   "metadata": {},
   "outputs": [
    {
     "name": "stdout",
     "output_type": "stream",
     "text": [
      "Maximum value in the list: 5\n",
      "Minimum value in the list: 0\n"
     ]
    }
   ],
   "source": [
    "numbers = [1,2,3,0,5]\n",
    "max_value = max(numbers)\n",
    "min_value = min(numbers)\n",
    "print(\"Maximum value in the list:\", max_value)\n",
    "print(\"Minimum value in the list:\", min_value)"
   ]
  },
  {
   "cell_type": "markdown",
   "id": "43dd2dcc-34a7-48c8-b7ab-3216900122c3",
   "metadata": {},
   "source": [
    "37. List Sorting: Write a Python program to sort a list of integers in ascending order."
   ]
  },
  {
   "cell_type": "code",
   "execution_count": 17,
   "id": "c5219cbd-4b11-4ff4-8029-031713ea7d6c",
   "metadata": {},
   "outputs": [
    {
     "name": "stdout",
     "output_type": "stream",
     "text": [
      "Sorted list of integers in ascending order: [4, 5, 15, 45, 78]\n"
     ]
    }
   ],
   "source": [
    "numbers = [5,15,4,45,78]\n",
    "sorted_numbers = sorted(numbers)\n",
    "print(\"Sorted list of integers in ascending order:\", sorted_numbers)"
   ]
  },
  {
   "cell_type": "markdown",
   "id": "d5edd698-365e-45df-ad5d-38b3a2aafbc7",
   "metadata": {},
   "source": [
    "38. List Filtering: Given a list of integers, write a Python program to create a new list that contains only the even numbers from the original list."
   ]
  },
  {
   "cell_type": "code",
   "execution_count": 18,
   "id": "98888f42-bac9-4233-ae3c-ebfb4eadd55f",
   "metadata": {},
   "outputs": [
    {
     "name": "stdout",
     "output_type": "stream",
     "text": [
      "Original list: [1, 2, 3, 4, 5, 6, 7, 8, 9, 10]\n",
      "List containing only even numbers: [2, 4, 6, 8, 10]\n"
     ]
    }
   ],
   "source": [
    "numbers = [1, 2, 3, 4, 5, 6, 7, 8, 9, 10]\n",
    "even_numbers = []\n",
    "for num in numbers:\n",
    "    if num % 2 == 0:\n",
    "        even_numbers.append(num)\n",
    "print(\"Original list:\", numbers)\n",
    "print(\"List containing only even numbers:\", even_numbers)\n"
   ]
  },
  {
   "cell_type": "markdown",
   "id": "6b53f32e-730d-4e08-a947-8924e6c1c245",
   "metadata": {},
   "source": [
    "39. List Reversal: Write a Python program to reverse a given list without using any built-in functions."
   ]
  },
  {
   "cell_type": "code",
   "execution_count": 22,
   "id": "34e56ea6-651c-417f-88d2-e0389e3b70a9",
   "metadata": {},
   "outputs": [
    {
     "name": "stdout",
     "output_type": "stream",
     "text": [
      "Original List: [10, 9, 8, 7, 6, 5, 4, 3, 2, 1]\n"
     ]
    }
   ],
   "source": [
    "original_list = [1, 2, 3, 4, 5, 6, 7, 8, 9, 10]\n",
    "length = len(original_list)\n",
    "for i in range(length // 2):\n",
    "    temp = original_list[i]\n",
    "    original_list[i] = original_list[length - i - 1]\n",
    "    original_list[length - i - 1] = temp\n",
    "print(\"Original List:\", original_list)"
   ]
  },
  {
   "cell_type": "markdown",
   "id": "1b3aff50-9172-4505-998b-47429725380f",
   "metadata": {},
   "source": [
    "40. List Manipulation: Given two lists of integers, write a Python program to create a new list that contains elements common to both lists."
   ]
  },
  {
   "cell_type": "code",
   "execution_count": 23,
   "id": "2e7db776-92a4-4235-b8c3-bdeb877c25d6",
   "metadata": {},
   "outputs": [
    {
     "name": "stdout",
     "output_type": "stream",
     "text": [
      "Common elements: [3, 4, 5]\n"
     ]
    }
   ],
   "source": [
    "list1 = [1, 2, 3, 4, 5]\n",
    "list2 = [4, 5, 3, 7, 5]\n",
    "common_elements = []\n",
    "for num in list1:\n",
    "    if num in list2:\n",
    "        common_elements.append(num)\n",
    "print(\"Common elements:\", common_elements)"
   ]
  },
  {
   "cell_type": "markdown",
   "id": "80a6ef1b-4ce7-4129-8e99-9f9b08840c06",
   "metadata": {},
   "source": [
    "41. List Element Count: Write a Python program to count the occurrences of a specific element in a given list."
   ]
  },
  {
   "cell_type": "code",
   "execution_count": 24,
   "id": "169acdfc-9529-4363-a029-e62ac74cc509",
   "metadata": {},
   "outputs": [
    {
     "name": "stdout",
     "output_type": "stream",
     "text": [
      "Occurrences of 2 in the list: 4\n"
     ]
    }
   ],
   "source": [
    "given_list = [1, 2, 2, 3, 4, 2, 5, 2, 6]\n",
    "specific_element = 2\n",
    "count = 0\n",
    "for element in given_list:\n",
    "    if element == specific_element:\n",
    "        count += 1\n",
    "print(\"Occurrences of\", specific_element, \"in the list:\", count)"
   ]
  },
  {
   "cell_type": "markdown",
   "id": "1bd902ae-9904-42b1-98be-efcce966516d",
   "metadata": {},
   "source": [
    "42. List Duplicates Removal: Write a Python program to remove duplicates from a given list while preserving the order of the elements."
   ]
  },
  {
   "cell_type": "code",
   "execution_count": 25,
   "id": "88841901-bf37-49e9-9c6e-248c0ddd4023",
   "metadata": {},
   "outputs": [
    {
     "name": "stdout",
     "output_type": "stream",
     "text": [
      "List with duplicates removed: [1, 2, 3, 4, 5, 6, 7, 8]\n"
     ]
    }
   ],
   "source": [
    "given_list = [1, 2, 3, 2, 4, 5, 1, 6, 7, 8, 5]\n",
    "unique_elements_set = set()\n",
    "for element in given_list:\n",
    "    unique_elements_set.add(element)\n",
    "unique_elements_list = list(unique_elements_set)\n",
    "print(\"List with duplicates removed:\", unique_elements_list)"
   ]
  },
  {
   "cell_type": "markdown",
   "id": "56fcac2e-8e1f-43ad-980b-8e8a98e89ec2",
   "metadata": {},
   "source": [
    "43. List Comprehension: Given a list of integers, write a Python program to create a new list that contains the squares of the elements using list comprehension."
   ]
  },
  {
   "cell_type": "code",
   "execution_count": 26,
   "id": "6763c5a8-2365-4748-8756-17f3f59fdd86",
   "metadata": {},
   "outputs": [
    {
     "name": "stdout",
     "output_type": "stream",
     "text": [
      "Original List: [1, 2, 3, 4, 5]\n",
      "List containing squares of elements: [1, 4, 9, 16, 25]\n"
     ]
    }
   ],
   "source": [
    "original_list = [1, 2, 3, 4, 5]\n",
    "squared_list = [num ** 2 for num in original_list]\n",
    "print(\"Original List:\", original_list)\n",
    "print(\"List containing squares of elements:\", squared_list)"
   ]
  },
  {
   "cell_type": "markdown",
   "id": "3a6ea210-aedd-4682-bdc9-ee466a7f8c21",
   "metadata": {},
   "source": [
    "Nested List Problems:"
   ]
  },
  {
   "cell_type": "markdown",
   "id": "34b327ab-04a0-4c91-82e0-5b3533582353",
   "metadata": {},
   "source": [
    "44. Matrix Addition: Write a Python program to add two matrices represented as nested lists."
   ]
  },
  {
   "cell_type": "code",
   "execution_count": null,
   "id": "e789d46e-459c-4357-b6ba-691d21d80174",
   "metadata": {},
   "outputs": [],
   "source": []
  }
 ],
 "metadata": {
  "kernelspec": {
   "display_name": "Python 3 (ipykernel)",
   "language": "python",
   "name": "python3"
  },
  "language_info": {
   "codemirror_mode": {
    "name": "ipython",
    "version": 3
   },
   "file_extension": ".py",
   "mimetype": "text/x-python",
   "name": "python",
   "nbconvert_exporter": "python",
   "pygments_lexer": "ipython3",
   "version": "3.11.7"
  }
 },
 "nbformat": 4,
 "nbformat_minor": 5
}
